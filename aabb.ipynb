{
 "cells": [
  {
   "cell_type": "markdown",
   "metadata": {},
   "source": [
    "# 三個數值的幾A幾B:\n",
    "情境:\n",
    "\n",
    "請輸入3個數字:223\n",
    "\n",
    "第1次猜測(正解224):目前結果2A0B\n",
    "\n",
    "請輸入3個數字:2254\n",
    "\n",
    "輸入錯誤請輸入3個數字\n",
    "\n",
    "請輸入3個數字:225\n",
    "\n",
    "第2次猜測(正解224):目前結果2A0B\n",
    "\n",
    "請輸入3個數字:224\n",
    "\n",
    "恭喜通關答案:224\n",
    "\n",
    "是否再玩一輪(Y/N):Y\n",
    "\n",
    "依照結果loop"
   ]
  },
  {
   "cell_type": "code",
   "execution_count": 1,
   "metadata": {},
   "outputs": [
    {
     "name": "stdout",
     "output_type": "stream",
     "text": [
      "請輸入3個數字:n\n",
      "輸入錯誤!!!\n",
      "請輸入3個數字:1\n",
      "輸入錯誤!!!\n",
      "請輸入3個數字:2\n",
      "輸入錯誤!!!\n",
      "請輸入3個數字:123\n",
      "第 1 次猜測，目前結果為 0 A 2 B\n",
      "請輸入3個數字:154\n",
      "第 2 次猜測，目前結果為 0 A 1 B\n",
      "請輸入3個數字:332\n",
      "第 3 次猜測，目前結果為 0 A 1 B\n",
      "請輸入3個數字:210\n",
      "第 4 次猜測，目前結果為 3 A 0 B\n",
      "恭喜答對,答案為 210\n",
      "是否再玩一輪?(Y/N) n\n",
      "請輸入3個數字:210\n",
      "第 5 次猜測，目前結果為 3 A 0 B\n",
      "恭喜答對,答案為 210\n",
      "是否再玩一輪?(Y/N) N\n"
     ]
    }
   ],
   "source": [
    "# list條列答案\n",
    "# 第0位需對到答案方可呈現A\n",
    "# 若不是A則需比對第1,2位有沒有相同數值;如果有B就+1\n",
    "# 其他位一樣\n",
    "\n",
    "count =0\n",
    "_outof = False\n",
    "while _outof == False:\n",
    "  ans =[2,1,0]\n",
    "  A = 0\n",
    "  B = 0\n",
    "  \n",
    "  test = input('請輸入3個數字:')\n",
    "  if len(test) != 3:\n",
    "    print('輸入錯誤!!!')\n",
    "  else:\n",
    "    count+=1\n",
    "    for i in range(3):\n",
    "      if str(test[i]) == str(ans[i]):\n",
    "        A += 1\n",
    "      elif str(test[i]) != str(ans[i]):\n",
    "        if str(test[i]) in str(ans):\n",
    "          B += 1 #是否有出現在其他位置(出現在ans的list裡) 244出錯=增加限制式 210VS222=??\n",
    "          # B -= A\n",
    "      elif A == 2:\n",
    "        B == 0\n",
    "        _outof = true\n",
    "    print('第',count,'次猜測，目前結果為',A,'A',B,'B')\n",
    "  if A == 3:\n",
    "    print('恭喜答對,答案為',test)\n",
    "    _thend = input('是否再玩一輪?(Y/N) ')\n",
    "    if _thend == 'N':\n",
    "      _outof = True\n"
   ]
  }
 ],
 "metadata": {
  "kernelspec": {
   "display_name": "Python 3",
   "language": "python",
   "name": "python3"
  },
  "language_info": {
   "codemirror_mode": {
    "name": "ipython",
    "version": 3
   },
   "file_extension": ".py",
   "mimetype": "text/x-python",
   "name": "python",
   "nbconvert_exporter": "python",
   "pygments_lexer": "ipython3",
   "version": "3.8.5"
  }
 },
 "nbformat": 4,
 "nbformat_minor": 4
}
